{
 "cells": [
  {
   "cell_type": "code",
   "execution_count": 12,
   "metadata": {},
   "outputs": [
    {
     "data": {
      "text/html": [
       "<style>.container {width:80% !important;}</style>"
      ],
      "text/plain": [
       "<IPython.core.display.HTML object>"
      ]
     },
     "metadata": {},
     "output_type": "display_data"
    }
   ],
   "source": [
    "import pandas as pd\n",
    "import numpy as np\n",
    "import json\n",
    "import os\n",
    "# import time\n",
    "# from memory_profiler import memory_usage\n",
    "\n",
    "# display all the  columns\n",
    "pd.set_option('display.max_columns', None)\n",
    "#최대표시 컬럼 수 \n",
    "pd.options.display.max_columns=100\n",
    "#최대표시 row 수\n",
    "pd.options.display.max_rows = 999\n",
    "#print 함수 없이 출력\n",
    "from IPython.core.interactiveshell import InteractiveShell\n",
    "InteractiveShell.ast_node_interactivity='all'\n",
    "#주피터 화면 확장\n",
    "from IPython.display import display, HTML\n",
    "display(HTML(\"<style>.container {width:80% !important;}</style>\"))"
   ]
  },
  {
   "cell_type": "code",
   "execution_count": 13,
   "metadata": {},
   "outputs": [
    {
     "data": {
      "text/plain": [
       "'c:\\\\dev\\\\workspace\\\\data_analyzer\\\\notebook'"
      ]
     },
     "execution_count": 13,
     "metadata": {},
     "output_type": "execute_result"
    }
   ],
   "source": [
    "os.getcwd()"
   ]
  },
  {
   "cell_type": "code",
   "execution_count": 14,
   "metadata": {},
   "outputs": [
    {
     "data": {
      "text/html": [
       "<div>\n",
       "<style scoped>\n",
       "    .dataframe tbody tr th:only-of-type {\n",
       "        vertical-align: middle;\n",
       "    }\n",
       "\n",
       "    .dataframe tbody tr th {\n",
       "        vertical-align: top;\n",
       "    }\n",
       "\n",
       "    .dataframe thead th {\n",
       "        text-align: right;\n",
       "    }\n",
       "</style>\n",
       "<table border=\"1\" class=\"dataframe\">\n",
       "  <thead>\n",
       "    <tr style=\"text-align: right;\">\n",
       "      <th></th>\n",
       "      <th>event_time</th>\n",
       "      <th>event_type</th>\n",
       "      <th>product_id</th>\n",
       "      <th>category_id</th>\n",
       "      <th>category_code</th>\n",
       "      <th>brand</th>\n",
       "      <th>price</th>\n",
       "      <th>user_id</th>\n",
       "      <th>user_session</th>\n",
       "    </tr>\n",
       "  </thead>\n",
       "  <tbody>\n",
       "    <tr>\n",
       "      <th>0</th>\n",
       "      <td>2019-11-01 00:00:10 UTC</td>\n",
       "      <td>view</td>\n",
       "      <td>1005115</td>\n",
       "      <td>2053013555631882655</td>\n",
       "      <td>electronics.smartphone</td>\n",
       "      <td>apple</td>\n",
       "      <td>949.47</td>\n",
       "      <td>562079864</td>\n",
       "      <td>0fe64462-83eb-4131-ab00-8e764dd995c3</td>\n",
       "    </tr>\n",
       "    <tr>\n",
       "      <th>1</th>\n",
       "      <td>2019-11-01 00:00:19 UTC</td>\n",
       "      <td>view</td>\n",
       "      <td>25600085</td>\n",
       "      <td>2053013559675191951</td>\n",
       "      <td>NaN</td>\n",
       "      <td>brw</td>\n",
       "      <td>134.37</td>\n",
       "      <td>522031876</td>\n",
       "      <td>39d48518-9fca-4df3-9724-950cd6ec44eb</td>\n",
       "    </tr>\n",
       "    <tr>\n",
       "      <th>2</th>\n",
       "      <td>2019-11-01 00:02:53 UTC</td>\n",
       "      <td>view</td>\n",
       "      <td>40700033</td>\n",
       "      <td>2086471225382536008</td>\n",
       "      <td>NaN</td>\n",
       "      <td>komfort-s</td>\n",
       "      <td>43.73</td>\n",
       "      <td>522031876</td>\n",
       "      <td>39d48518-9fca-4df3-9724-950cd6ec44eb</td>\n",
       "    </tr>\n",
       "    <tr>\n",
       "      <th>3</th>\n",
       "      <td>2019-11-01 00:03:11 UTC</td>\n",
       "      <td>view</td>\n",
       "      <td>40700034</td>\n",
       "      <td>2086471225382536008</td>\n",
       "      <td>NaN</td>\n",
       "      <td>komfort-s</td>\n",
       "      <td>32.15</td>\n",
       "      <td>522031876</td>\n",
       "      <td>39d48518-9fca-4df3-9724-950cd6ec44eb</td>\n",
       "    </tr>\n",
       "    <tr>\n",
       "      <th>4</th>\n",
       "      <td>2019-11-01 00:03:23 UTC</td>\n",
       "      <td>view</td>\n",
       "      <td>40700034</td>\n",
       "      <td>2086471225382536008</td>\n",
       "      <td>NaN</td>\n",
       "      <td>komfort-s</td>\n",
       "      <td>32.15</td>\n",
       "      <td>522031876</td>\n",
       "      <td>39d48518-9fca-4df3-9724-950cd6ec44eb</td>\n",
       "    </tr>\n",
       "    <tr>\n",
       "      <th>...</th>\n",
       "      <td>...</td>\n",
       "      <td>...</td>\n",
       "      <td>...</td>\n",
       "      <td>...</td>\n",
       "      <td>...</td>\n",
       "      <td>...</td>\n",
       "      <td>...</td>\n",
       "      <td>...</td>\n",
       "      <td>...</td>\n",
       "    </tr>\n",
       "    <tr>\n",
       "      <th>912807</th>\n",
       "      <td>2019-11-30 23:50:54 UTC</td>\n",
       "      <td>view</td>\n",
       "      <td>2702309</td>\n",
       "      <td>2053013563911439225</td>\n",
       "      <td>appliances.kitchen.refrigerators</td>\n",
       "      <td>dauscher</td>\n",
       "      <td>256.89</td>\n",
       "      <td>513669664</td>\n",
       "      <td>8aed6cef-2501-4263-a2cd-ddce0ef24ccd</td>\n",
       "    </tr>\n",
       "    <tr>\n",
       "      <th>912808</th>\n",
       "      <td>2019-11-30 23:51:44 UTC</td>\n",
       "      <td>view</td>\n",
       "      <td>2702309</td>\n",
       "      <td>2053013563911439225</td>\n",
       "      <td>appliances.kitchen.refrigerators</td>\n",
       "      <td>dauscher</td>\n",
       "      <td>256.89</td>\n",
       "      <td>513669664</td>\n",
       "      <td>8aed6cef-2501-4263-a2cd-ddce0ef24ccd</td>\n",
       "    </tr>\n",
       "    <tr>\n",
       "      <th>912809</th>\n",
       "      <td>2019-11-30 23:52:15 UTC</td>\n",
       "      <td>view</td>\n",
       "      <td>2700306</td>\n",
       "      <td>2053013563911439225</td>\n",
       "      <td>appliances.kitchen.refrigerators</td>\n",
       "      <td>NaN</td>\n",
       "      <td>269.48</td>\n",
       "      <td>513669664</td>\n",
       "      <td>8aed6cef-2501-4263-a2cd-ddce0ef24ccd</td>\n",
       "    </tr>\n",
       "    <tr>\n",
       "      <th>912810</th>\n",
       "      <td>2019-11-30 23:52:42 UTC</td>\n",
       "      <td>view</td>\n",
       "      <td>2701658</td>\n",
       "      <td>2053013563911439225</td>\n",
       "      <td>appliances.kitchen.refrigerators</td>\n",
       "      <td>indesit</td>\n",
       "      <td>272.54</td>\n",
       "      <td>513669664</td>\n",
       "      <td>8aed6cef-2501-4263-a2cd-ddce0ef24ccd</td>\n",
       "    </tr>\n",
       "    <tr>\n",
       "      <th>912811</th>\n",
       "      <td>2019-11-30 23:52:56 UTC</td>\n",
       "      <td>view</td>\n",
       "      <td>2700426</td>\n",
       "      <td>2053013563911439225</td>\n",
       "      <td>appliances.kitchen.refrigerators</td>\n",
       "      <td>NaN</td>\n",
       "      <td>274.96</td>\n",
       "      <td>513669664</td>\n",
       "      <td>8aed6cef-2501-4263-a2cd-ddce0ef24ccd</td>\n",
       "    </tr>\n",
       "  </tbody>\n",
       "</table>\n",
       "<p>912812 rows × 9 columns</p>\n",
       "</div>"
      ],
      "text/plain": [
       "                     event_time event_type  product_id          category_id  \\\n",
       "0       2019-11-01 00:00:10 UTC       view     1005115  2053013555631882655   \n",
       "1       2019-11-01 00:00:19 UTC       view    25600085  2053013559675191951   \n",
       "2       2019-11-01 00:02:53 UTC       view    40700033  2086471225382536008   \n",
       "3       2019-11-01 00:03:11 UTC       view    40700034  2086471225382536008   \n",
       "4       2019-11-01 00:03:23 UTC       view    40700034  2086471225382536008   \n",
       "...                         ...        ...         ...                  ...   \n",
       "912807  2019-11-30 23:50:54 UTC       view     2702309  2053013563911439225   \n",
       "912808  2019-11-30 23:51:44 UTC       view     2702309  2053013563911439225   \n",
       "912809  2019-11-30 23:52:15 UTC       view     2700306  2053013563911439225   \n",
       "912810  2019-11-30 23:52:42 UTC       view     2701658  2053013563911439225   \n",
       "912811  2019-11-30 23:52:56 UTC       view     2700426  2053013563911439225   \n",
       "\n",
       "                           category_code      brand   price    user_id  \\\n",
       "0                 electronics.smartphone      apple  949.47  562079864   \n",
       "1                                    NaN        brw  134.37  522031876   \n",
       "2                                    NaN  komfort-s   43.73  522031876   \n",
       "3                                    NaN  komfort-s   32.15  522031876   \n",
       "4                                    NaN  komfort-s   32.15  522031876   \n",
       "...                                  ...        ...     ...        ...   \n",
       "912807  appliances.kitchen.refrigerators   dauscher  256.89  513669664   \n",
       "912808  appliances.kitchen.refrigerators   dauscher  256.89  513669664   \n",
       "912809  appliances.kitchen.refrigerators        NaN  269.48  513669664   \n",
       "912810  appliances.kitchen.refrigerators    indesit  272.54  513669664   \n",
       "912811  appliances.kitchen.refrigerators        NaN  274.96  513669664   \n",
       "\n",
       "                                user_session  \n",
       "0       0fe64462-83eb-4131-ab00-8e764dd995c3  \n",
       "1       39d48518-9fca-4df3-9724-950cd6ec44eb  \n",
       "2       39d48518-9fca-4df3-9724-950cd6ec44eb  \n",
       "3       39d48518-9fca-4df3-9724-950cd6ec44eb  \n",
       "4       39d48518-9fca-4df3-9724-950cd6ec44eb  \n",
       "...                                      ...  \n",
       "912807  8aed6cef-2501-4263-a2cd-ddce0ef24ccd  \n",
       "912808  8aed6cef-2501-4263-a2cd-ddce0ef24ccd  \n",
       "912809  8aed6cef-2501-4263-a2cd-ddce0ef24ccd  \n",
       "912810  8aed6cef-2501-4263-a2cd-ddce0ef24ccd  \n",
       "912811  8aed6cef-2501-4263-a2cd-ddce0ef24ccd  \n",
       "\n",
       "[912812 rows x 9 columns]"
      ]
     },
     "execution_count": 14,
     "metadata": {},
     "output_type": "execute_result"
    }
   ],
   "source": [
    "df = pd.read_csv(\"../data/kaggle_ecommerce_behavior_data_2019_Nov_partial.csv\")\n",
    "df"
   ]
  },
  {
   "attachments": {},
   "cell_type": "markdown",
   "metadata": {},
   "source": [
    "# 정합성 체크"
   ]
  },
  {
   "cell_type": "code",
   "execution_count": 157,
   "metadata": {},
   "outputs": [],
   "source": [
    "def check_data_consistency(params, data):\n",
    "    info = params[\"preprocess\"][\"consistency\"]\n",
    "    abnormal_cases = dict()\n",
    "    for key in info:\n",
    "        df_groupby = data.groupby(key)[info[key]].nunique()\n",
    "        df_groupby[\"sum\"] = df_groupby.sum(axis=1)\n",
    "        abnormal_cases[key] = df_groupby.loc[\n",
    "            df_groupby[\"sum\"] > len(info[key])\n",
    "        ].index.tolist()\n",
    "    return abnormal_cases\n",
    "\n",
    "def generate_convert_info(params, data, abnormal_cases):\n",
    "    infos = dict()\n",
    "    for key in abnormal_cases:\n",
    "        if abnormal_cases[key]:\n",
    "            related_keys = params[\"preprocess\"][\"consistency\"][key]\n",
    "            n_data = data.loc[data[key].isin(abnormal_cases[key])]\n",
    "            infos[key] = n_data.groupby(key).agg({rkey: \"unique\" for rkey in related_keys}).to_dict(\"index\")\n",
    "    return infos\n",
    "\n",
    "def load_json(dir):\n",
    "    with open(dir, encoding=\"utf-8-sig\") as f:\n",
    "        json_file = json.load(f)\n",
    "    return json_file\n",
    "\n",
    "\n",
    "# dfa.groupby(\"product_id\").agg({\"category_id\":\"unique\", \"brand\":\"unique\"}).to_dict(\"index\")\n"
   ]
  },
  {
   "cell_type": "code",
   "execution_count": 158,
   "metadata": {},
   "outputs": [
    {
     "data": {
      "text/plain": [
       "{'preprocess': {'consistency': {'user_session': ['user_id'],\n",
       "   'category_id': ['category_code'],\n",
       "   'product_id': ['category_id', 'brand']}}}"
      ]
     },
     "execution_count": 158,
     "metadata": {},
     "output_type": "execute_result"
    },
    {
     "data": {
      "text/plain": [
       "{'user_session': [],\n",
       " 'category_id': [],\n",
       " 'product_id': [1701027,\n",
       "  2702677,\n",
       "  10701166,\n",
       "  12000324,\n",
       "  16600184,\n",
       "  17200973,\n",
       "  26800016,\n",
       "  26900064,\n",
       "  28101062,\n",
       "  57600030]}"
      ]
     },
     "execution_count": 158,
     "metadata": {},
     "output_type": "execute_result"
    }
   ],
   "source": [
    "params = load_json(\"../params/param_test.json\")\n",
    "params\n",
    "\n",
    "res_dict = check_data_consistency(params, df)\n",
    "res_dict"
   ]
  },
  {
   "cell_type": "code",
   "execution_count": 159,
   "metadata": {},
   "outputs": [
    {
     "data": {
      "text/plain": [
       "{'product_id': {1701027: {'category_id': array([2053013553031414015], dtype=int64),\n",
       "   'brand': array(['samsung', 'lenovo'], dtype=object)},\n",
       "  2702677: {'category_id': array([2053013563911439225], dtype=int64),\n",
       "   'brand': array(['indesit', 'schaublorenz'], dtype=object)},\n",
       "  10701166: {'category_id': array([2053013561277416167], dtype=int64),\n",
       "   'brand': array(['sonyinteractiveentertainment', 'badlandgames'], dtype=object)},\n",
       "  12000324: {'category_id': array([2053013555438944659], dtype=int64),\n",
       "   'brand': array(['caramelia', 'tatami'], dtype=object)},\n",
       "  16600184: {'category_id': array([2053013560287560373], dtype=int64),\n",
       "   'brand': array(['bugati', 'bugatti'], dtype=object)},\n",
       "  17200973: {'category_id': array([2053013559792632471], dtype=int64),\n",
       "   'brand': array(['mebberykz', 'mebberi'], dtype=object)},\n",
       "  26800016: {'category_id': array([2053013564641248165], dtype=int64),\n",
       "   'brand': array(['fitlux', 'jkexer'], dtype=object)},\n",
       "  26900064: {'category_id': array([2053013564599305123], dtype=int64),\n",
       "   'brand': array(['housefit', 'sportelite'], dtype=object)},\n",
       "  28101062: {'category_id': array([2053013564918072245], dtype=int64),\n",
       "   'brand': array(['basharan', 'basaran'], dtype=object)},\n",
       "  57600030: {'category_id': array([2155114825741500949], dtype=int64),\n",
       "   'brand': array(['dirkjebabywear', 'dirkje'], dtype=object)}}}"
      ]
     },
     "execution_count": 159,
     "metadata": {},
     "output_type": "execute_result"
    }
   ],
   "source": [
    "generate_convert_info(params, df, res_dict)"
   ]
  },
  {
   "cell_type": "code",
   "execution_count": null,
   "metadata": {},
   "outputs": [],
   "source": []
  }
 ],
 "metadata": {
  "kernelspec": {
   "display_name": "py39_pdml_230627",
   "language": "python",
   "name": "python3"
  },
  "language_info": {
   "codemirror_mode": {
    "name": "ipython",
    "version": 3
   },
   "file_extension": ".py",
   "mimetype": "text/x-python",
   "name": "python",
   "nbconvert_exporter": "python",
   "pygments_lexer": "ipython3",
   "version": "3.9.5"
  },
  "orig_nbformat": 4
 },
 "nbformat": 4,
 "nbformat_minor": 2
}
